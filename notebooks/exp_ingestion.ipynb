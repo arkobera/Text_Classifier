{
 "cells": [
  {
   "cell_type": "code",
   "execution_count": null,
   "id": "f42de6f1",
   "metadata": {},
   "outputs": [
    {
     "name": "stdout",
     "output_type": "stream",
     "text": [
      "Files extracted to 'C:/Users/ARKO BERA/Desktop/MLOPS/Titanic_Survival_Prediction/data'\n"
     ]
    }
   ],
   "source": [
    "import zipfile\n",
    "import os\n",
    "\n",
    "zip_path = 'C:/Users/ARKO BERA/Desktop/MLOPS/Titanic_Survival_Prediction/data/titanic.zip'  # Path to your zip file\n",
    "extract_dir = 'C:/Users/ARKO BERA/Desktop/MLOPS/Titanic_Survival_Prediction/data'      # Directory to extract to\n",
    "\n",
    "os.makedirs(extract_dir, exist_ok=True)\n",
    "\n",
    "with zipfile.ZipFile(zip_path, 'r') as zip_ref:\n",
    "    zip_ref.extractall(extract_dir)\n",
    "\n",
    "print(f\"Files extracted to '{extract_dir}'\")\n"
   ]
  },
  {
   "cell_type": "code",
   "execution_count": 2,
   "id": "8760f992",
   "metadata": {},
   "outputs": [
    {
     "data": {
      "text/plain": [
       "0"
      ]
     },
     "execution_count": 2,
     "metadata": {},
     "output_type": "execute_result"
    }
   ],
   "source": [
    "import os\n",
    "os.environ['KAGGLE_CONFIG_DIR'] = \"C:/Users/ARKO BERA/OneDrive/Desktop/MLOPS/Titanic_Survival_Prediction/.kaggle\"\n",
    "os.system('kaggle kernels pull xxxzedmy/linear-predict')"
   ]
  },
  {
   "cell_type": "code",
   "execution_count": null,
   "id": "13f68f4a",
   "metadata": {},
   "outputs": [],
   "source": []
  }
 ],
 "metadata": {
  "kernelspec": {
   "display_name": "Python 3",
   "language": "python",
   "name": "python3"
  },
  "language_info": {
   "codemirror_mode": {
    "name": "ipython",
    "version": 3
   },
   "file_extension": ".py",
   "mimetype": "text/x-python",
   "name": "python",
   "nbconvert_exporter": "python",
   "pygments_lexer": "ipython3",
   "version": "3.13.3"
  }
 },
 "nbformat": 4,
 "nbformat_minor": 5
}
